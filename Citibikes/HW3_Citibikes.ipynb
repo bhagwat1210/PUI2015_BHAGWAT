{
 "cells": [
  {
   "cell_type": "code",
   "execution_count": 149,
   "metadata": {
    "collapsed": false
   },
   "outputs": [
    {
     "name": "stdout",
     "output_type": "stream",
     "text": [
      "Populating the interactive namespace from numpy and matplotlib\n"
     ]
    }
   ],
   "source": [
    "import pylab as pl\n",
    "import pandas as pd\n",
    "import numpy as np\n",
    "%pylab inline\n",
    "\n",
    "import os"
   ]
  },
  {
   "cell_type": "markdown",
   "metadata": {},
   "source": [
    "# Idea :Young people went for more subscription as compared to older people during the month of April 2015\n",
    "# Null Hypothesis : H0 = Age and subscription are independent \n",
    "# Alternate hypothesis : H1 = Age and subscription are dependent on each other. \n"
   ]
  },
  {
   "cell_type": "markdown",
   "metadata": {},
   "source": [
    "#  We have taken two observation , one is having age greater than 30(the older) and second is younger than 30 (the young)\n"
   ]
  },
  {
   "cell_type": "code",
   "execution_count": 150,
   "metadata": {
    "collapsed": false
   },
   "outputs": [],
   "source": [
    "df=pd.read_csv('/Users/bhagwatsinghbisht/Downloads/201504_data.csv', index_col=0)\n"
   ]
  },
  {
   "cell_type": "code",
   "execution_count": 151,
   "metadata": {
    "collapsed": false
   },
   "outputs": [
    {
     "data": {
      "text/html": [
       "<div>\n",
       "<table border=\"1\" class=\"dataframe\">\n",
       "  <thead>\n",
       "    <tr style=\"text-align: right;\">\n",
       "      <th></th>\n",
       "      <th>starttime</th>\n",
       "      <th>stoptime</th>\n",
       "      <th>start station id</th>\n",
       "      <th>start station name</th>\n",
       "      <th>start station latitude</th>\n",
       "      <th>start station longitude</th>\n",
       "      <th>end station id</th>\n",
       "      <th>end station name</th>\n",
       "      <th>end station latitude</th>\n",
       "      <th>end station longitude</th>\n",
       "      <th>bikeid</th>\n",
       "      <th>usertype</th>\n",
       "      <th>birth year</th>\n",
       "      <th>gender</th>\n",
       "    </tr>\n",
       "    <tr>\n",
       "      <th>tripduration</th>\n",
       "      <th></th>\n",
       "      <th></th>\n",
       "      <th></th>\n",
       "      <th></th>\n",
       "      <th></th>\n",
       "      <th></th>\n",
       "      <th></th>\n",
       "      <th></th>\n",
       "      <th></th>\n",
       "      <th></th>\n",
       "      <th></th>\n",
       "      <th></th>\n",
       "      <th></th>\n",
       "      <th></th>\n",
       "    </tr>\n",
       "  </thead>\n",
       "  <tbody>\n",
       "    <tr>\n",
       "      <th>241</th>\n",
       "      <td>4/1/2015 00:00:23</td>\n",
       "      <td>4/1/2015 00:04:25</td>\n",
       "      <td>494</td>\n",
       "      <td>W 26 St &amp; 8 Ave</td>\n",
       "      <td>40.747348</td>\n",
       "      <td>-73.997236</td>\n",
       "      <td>489</td>\n",
       "      <td>10 Ave &amp; W 28 St</td>\n",
       "      <td>40.750664</td>\n",
       "      <td>-74.001768</td>\n",
       "      <td>15510</td>\n",
       "      <td>Subscriber</td>\n",
       "      <td>1992</td>\n",
       "      <td>2</td>\n",
       "    </tr>\n",
       "    <tr>\n",
       "      <th>578</th>\n",
       "      <td>4/1/2015 00:00:52</td>\n",
       "      <td>4/1/2015 00:10:31</td>\n",
       "      <td>82</td>\n",
       "      <td>St James Pl &amp; Pearl St</td>\n",
       "      <td>40.711174</td>\n",
       "      <td>-74.000165</td>\n",
       "      <td>2008</td>\n",
       "      <td>Little West St &amp; 1 Pl</td>\n",
       "      <td>40.705693</td>\n",
       "      <td>-74.016777</td>\n",
       "      <td>15014</td>\n",
       "      <td>Subscriber</td>\n",
       "      <td>1982</td>\n",
       "      <td>1</td>\n",
       "    </tr>\n",
       "    <tr>\n",
       "      <th>484</th>\n",
       "      <td>4/1/2015 00:01:28</td>\n",
       "      <td>4/1/2015 00:09:33</td>\n",
       "      <td>223</td>\n",
       "      <td>W 13 St &amp; 7 Ave</td>\n",
       "      <td>40.737815</td>\n",
       "      <td>-73.999947</td>\n",
       "      <td>445</td>\n",
       "      <td>E 10 St &amp; Avenue A</td>\n",
       "      <td>40.727408</td>\n",
       "      <td>-73.981420</td>\n",
       "      <td>20881</td>\n",
       "      <td>Subscriber</td>\n",
       "      <td>1986</td>\n",
       "      <td>2</td>\n",
       "    </tr>\n",
       "    <tr>\n",
       "      <th>1144</th>\n",
       "      <td>4/1/2015 00:01:31</td>\n",
       "      <td>4/1/2015 00:20:36</td>\n",
       "      <td>393</td>\n",
       "      <td>E 5 St &amp; Avenue C</td>\n",
       "      <td>40.722992</td>\n",
       "      <td>-73.979955</td>\n",
       "      <td>393</td>\n",
       "      <td>E 5 St &amp; Avenue C</td>\n",
       "      <td>40.722992</td>\n",
       "      <td>-73.979955</td>\n",
       "      <td>20295</td>\n",
       "      <td>Subscriber</td>\n",
       "      <td>1977</td>\n",
       "      <td>2</td>\n",
       "    </tr>\n",
       "    <tr>\n",
       "      <th>1023</th>\n",
       "      <td>4/1/2015 00:01:36</td>\n",
       "      <td>4/1/2015 00:18:40</td>\n",
       "      <td>212</td>\n",
       "      <td>W 16 St &amp; The High Line</td>\n",
       "      <td>40.743349</td>\n",
       "      <td>-74.006818</td>\n",
       "      <td>438</td>\n",
       "      <td>St Marks Pl &amp; 1 Ave</td>\n",
       "      <td>40.727791</td>\n",
       "      <td>-73.985649</td>\n",
       "      <td>19871</td>\n",
       "      <td>Subscriber</td>\n",
       "      <td>1979</td>\n",
       "      <td>1</td>\n",
       "    </tr>\n",
       "  </tbody>\n",
       "</table>\n",
       "</div>"
      ],
      "text/plain": [
       "                      starttime           stoptime  start station id  \\\n",
       "tripduration                                                           \n",
       "241           4/1/2015 00:00:23  4/1/2015 00:04:25               494   \n",
       "578           4/1/2015 00:00:52  4/1/2015 00:10:31                82   \n",
       "484           4/1/2015 00:01:28  4/1/2015 00:09:33               223   \n",
       "1144          4/1/2015 00:01:31  4/1/2015 00:20:36               393   \n",
       "1023          4/1/2015 00:01:36  4/1/2015 00:18:40               212   \n",
       "\n",
       "                   start station name  start station latitude  \\\n",
       "tripduration                                                    \n",
       "241                   W 26 St & 8 Ave               40.747348   \n",
       "578            St James Pl & Pearl St               40.711174   \n",
       "484                   W 13 St & 7 Ave               40.737815   \n",
       "1144                E 5 St & Avenue C               40.722992   \n",
       "1023          W 16 St & The High Line               40.743349   \n",
       "\n",
       "              start station longitude  end station id       end station name  \\\n",
       "tripduration                                                                   \n",
       "241                        -73.997236             489       10 Ave & W 28 St   \n",
       "578                        -74.000165            2008  Little West St & 1 Pl   \n",
       "484                        -73.999947             445     E 10 St & Avenue A   \n",
       "1144                       -73.979955             393      E 5 St & Avenue C   \n",
       "1023                       -74.006818             438    St Marks Pl & 1 Ave   \n",
       "\n",
       "              end station latitude  end station longitude  bikeid    usertype  \\\n",
       "tripduration                                                                    \n",
       "241                      40.750664             -74.001768   15510  Subscriber   \n",
       "578                      40.705693             -74.016777   15014  Subscriber   \n",
       "484                      40.727408             -73.981420   20881  Subscriber   \n",
       "1144                     40.722992             -73.979955   20295  Subscriber   \n",
       "1023                     40.727791             -73.985649   19871  Subscriber   \n",
       "\n",
       "              birth year  gender  \n",
       "tripduration                      \n",
       "241                 1992       2  \n",
       "578                 1982       1  \n",
       "484                 1986       2  \n",
       "1144                1977       2  \n",
       "1023                1979       1  "
      ]
     },
     "execution_count": 151,
     "metadata": {},
     "output_type": "execute_result"
    }
   ],
   "source": [
    "df.head(5)"
   ]
  },
  {
   "cell_type": "code",
   "execution_count": 152,
   "metadata": {
    "collapsed": false
   },
   "outputs": [],
   "source": [
    "m= df[df.gender==1]                       #getting all the males\n",
    "n= df[df.gender==2]                       #getting all the females\n",
    "MaleS= m[m.usertype=='Subscriber']        ##getitng all the male subscriber\n",
    "FemaleS= n[n.usertype=='Subscriber']      ## getting allthe female subscriber\n"
   ]
  },
  {
   "cell_type": "code",
   "execution_count": 153,
   "metadata": {
    "collapsed": false
   },
   "outputs": [],
   "source": [
    "## here We are segregating the observations into samples , men and female younger than 30 and older than 30\n",
    "Fem = FemaleS['birth year']\n",
    "Fem30 = Fem[Fem >= 1985].count()\n",
    "Fem30plus = Fem[Fem < 1985].count()\n",
    "Mal = MaleS['birth year']\n",
    "Mal30 = Mal[Mal >= 1985].count()\n",
    "Mal30plus = Mal[Mal < 1985].count()\n"
   ]
  },
  {
   "cell_type": "code",
   "execution_count": 154,
   "metadata": {
    "collapsed": false
   },
   "outputs": [
    {
     "name": "stdout",
     "output_type": "stream",
     "text": [
      "The count of Male under 30 subscription is  123122\n",
      "The count of Male over 30 subscription is  334460\n",
      "The count of Female under 30 subscription is  42529\n",
      "The count of Female over 30 subscription is  85903\n"
     ]
    }
   ],
   "source": [
    "print 'The count of Male under 30 subscription is ', Mal30\n",
    "print 'The count of Male over 30 subscription is ', Mal30plus\n",
    "print 'The count of Female under 30 subscription is ', Fem30\n",
    "print 'The count of Female over 30 subscription is ', Fem30plus\n"
   ]
  },
  {
   "cell_type": "code",
   "execution_count": 155,
   "metadata": {
    "collapsed": false
   },
   "outputs": [
    {
     "name": "stdout",
     "output_type": "stream",
     "text": [
      "586014\n"
     ]
    }
   ],
   "source": [
    "## calculating the marginal values \n",
    "R11= Mal30 + Mal30plus   \n",
    "R12 = Fem30 + Fem30plus\n",
    "C11 = Mal30 + Fem30\n",
    "C12 = Mal30plus + Fem30plus\n",
    "Total = C11+C12\n",
    "print Total"
   ]
  },
  {
   "cell_type": "code",
   "execution_count": 156,
   "metadata": {
    "collapsed": false
   },
   "outputs": [
    {
     "name": "stdout",
     "output_type": "stream",
     "text": [
      "129346 328235 36304 92127\n"
     ]
    }
   ],
   "source": [
    "##calculating Estimated value \n",
    "E11 = (R11*C11)/Total\n",
    "E12 = (R11* C12)/Total\n",
    "E21 = (R12*C11)/Total\n",
    "E22 = (R12*C12)/Total\n",
    "print E11,E12,E21,E22"
   ]
  },
  {
   "cell_type": "markdown",
   "metadata": {},
   "source": [
    "Applying chi square test to the observation :"
   ]
  },
  {
   "cell_type": "code",
   "execution_count": 157,
   "metadata": {
    "collapsed": false
   },
   "outputs": [],
   "source": [
    "##inserted the marginal values and estimated values into arr1 and arr2 list respectively"
   ]
  },
  {
   "cell_type": "code",
   "execution_count": 158,
   "metadata": {
    "collapsed": false
   },
   "outputs": [
    {
     "name": "stdout",
     "output_type": "stream",
     "text": [
      "The chi square values are as follow  [299, 118, 1067, 420]\n"
     ]
    }
   ],
   "source": [
    "##calculating the chi square value .\n",
    "arr3=[]\n",
    "i=0\n",
    "for i in range(len(arr1)):\n",
    "    arr3.append((arr1[i]-arr2[i])**2/arr2[i])\n",
    "    i=i+1\n",
    "print 'The chi square values are as follow ', arr3   \n",
    "    "
   ]
  },
  {
   "cell_type": "markdown",
   "metadata": {},
   "source": [
    "Degree of freedom  = 1"
   ]
  },
  {
   "cell_type": "code",
   "execution_count": 159,
   "metadata": {
    "collapsed": false
   },
   "outputs": [
    {
     "name": "stdout",
     "output_type": "stream",
     "text": [
      "1904\n"
     ]
    }
   ],
   "source": [
    "##Adding the chi square values \n",
    "tot= 0 \n",
    "for i in arr3:\n",
    "    tot += i\n",
    "print tot     "
   ]
  },
  {
   "cell_type": "markdown",
   "metadata": {},
   "source": [
    "## observation : The value in the chisquare table for the alpha =0.05 and and degree of freedom =1 is 3.84 but the value we got was 1904 which is way higher . Hence we reject the null hypothesis H0."
   ]
  },
  {
   "cell_type": "code",
   "execution_count": null,
   "metadata": {
    "collapsed": true
   },
   "outputs": [],
   "source": []
  }
 ],
 "metadata": {
  "kernelspec": {
   "display_name": "Python 2",
   "language": "python",
   "name": "python2"
  },
  "language_info": {
   "codemirror_mode": {
    "name": "ipython",
    "version": 2
   },
   "file_extension": ".py",
   "mimetype": "text/x-python",
   "name": "python",
   "nbconvert_exporter": "python",
   "pygments_lexer": "ipython2",
   "version": "2.7.10"
  }
 },
 "nbformat": 4,
 "nbformat_minor": 0
}
