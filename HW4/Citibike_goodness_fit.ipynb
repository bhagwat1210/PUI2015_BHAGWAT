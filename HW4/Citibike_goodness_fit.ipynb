{
 "cells": [
  {
   "cell_type": "code",
   "execution_count": 1,
   "metadata": {
    "collapsed": false
   },
   "outputs": [
    {
     "name": "stdout",
     "output_type": "stream",
     "text": [
      "Populating the interactive namespace from numpy and matplotlib\n"
     ]
    }
   ],
   "source": [
    "import pylab as pl\n",
    "import pandas as pd\n",
    "import numpy as np\n",
    "%pylab inline\n",
    "import os\n",
    "import scipy.stats\n",
    "\n",
    "\n"
   ]
  },
  {
   "cell_type": "code",
   "execution_count": 2,
   "metadata": {
    "collapsed": true
   },
   "outputs": [],
   "source": [
    "dfs1=pd.read_csv('/Users/bhagwatsinghbisht/Downloads/201508-citibike-tripdata.csv')  # for summer\n",
    "dfs2=pd.read_csv('/Users/bhagwatsinghbisht/Downloads/201507-citibike-tripdata.csv')\n",
    "dfs3=pd.read_csv('/Users/bhagwatsinghbisht/Downloads/201506-citibike-tripdata.csv')"
   ]
  },
  {
   "cell_type": "code",
   "execution_count": 3,
   "metadata": {
    "collapsed": false
   },
   "outputs": [
    {
     "data": {
      "text/plain": [
       "tripduration               3205939\n",
       "starttime                  3205939\n",
       "stoptime                   3205939\n",
       "start station id           3205939\n",
       "start station name         3205939\n",
       "start station latitude     3205939\n",
       "start station longitude    3205939\n",
       "end station id             3205939\n",
       "end station name           3205939\n",
       "end station latitude       3205939\n",
       "end station longitude      3205939\n",
       "bikeid                     3205939\n",
       "usertype                   3205939\n",
       "birth year                 2674181\n",
       "gender                     3205939\n",
       "dtype: int64"
      ]
     },
     "execution_count": 3,
     "metadata": {},
     "output_type": "execute_result"
    }
   ],
   "source": [
    "frames = [dfs1,dfs2,dfs3]\n",
    "dfs = pd.concat(frames, ignore_index=True)\n",
    "dfs.count()"
   ]
  },
  {
   "cell_type": "code",
   "execution_count": 4,
   "metadata": {
    "collapsed": true
   },
   "outputs": [],
   "source": [
    "dfw1=pd.read_csv('/Users/bhagwatsinghbisht/Downloads/201501-citibike-tripdata.csv')  # for winter\n",
    "dfw2=pd.read_csv('/Users/bhagwatsinghbisht/Downloads/201502-citibike-tripdata.csv')"
   ]
  },
  {
   "cell_type": "code",
   "execution_count": 5,
   "metadata": {
    "collapsed": false
   },
   "outputs": [
    {
     "data": {
      "text/plain": [
       "tripduration               482482\n",
       "starttime                  482482\n",
       "stoptime                   482482\n",
       "start station id           482482\n",
       "start station name         482482\n",
       "start station latitude     482482\n",
       "start station longitude    482482\n",
       "end station id             482482\n",
       "end station name           482482\n",
       "end station latitude       482482\n",
       "end station longitude      482482\n",
       "bikeid                     482482\n",
       "usertype                   482482\n",
       "birth year                 474587\n",
       "gender                     482482\n",
       "dtype: int64"
      ]
     },
     "execution_count": 5,
     "metadata": {},
     "output_type": "execute_result"
    }
   ],
   "source": [
    "frame = [dfw1,dfw2]\n",
    "dfw = pd.concat(frame, ignore_index=True)\n",
    "dfw.count()"
   ]
  },
  {
   "cell_type": "code",
   "execution_count": 6,
   "metadata": {
    "collapsed": true
   },
   "outputs": [],
   "source": [
    "dfw['age'] = 2015-dfw['birth year'][(dfw['usertype'] == 'Subscriber')]\n",
    "dfs['age'] = 2015-dfs['birth year'][(dfs['usertype'] == 'Subscriber')]"
   ]
  },
  {
   "cell_type": "code",
   "execution_count": 7,
   "metadata": {
    "collapsed": false
   },
   "outputs": [
    {
     "data": {
      "image/png": "[encoded data removed]",
      "text/plain": [
       "<matplotlib.figure.Figure at 0x10924a8d0>"
      ]
     },
     "metadata": {},
     "output_type": "display_data"
    },
    {
     "data": {
      "image/png": "[encoded data removed]",
      "text/plain": [
       "<matplotlib.figure.Figure at 0x10929c890>"
      ]
     },
     "metadata": {},
     "output_type": "display_data"
    }
   ],
   "source": [
    "bins = np.arange(10, 99, 10)\n",
    "dfw.age.groupby(pd.cut(dfw.age, bins)).agg([count_nonzero]).plot(kind='bar', title=\"Winter\")\n",
    "W_age_dist = dfw.age[~np.isnan(dfw['age'])].groupby(pd.cut(dfw.age[~np.isnan(dfw['age'])], bins)).agg([count_nonzero])\n",
    "dfs.age.groupby(pd.cut(dfs.age, bins)).agg([count_nonzero]).plot(kind='bar', title=\"Summer\")\n",
    "S_age_dist = dfs.age[~np.isnan(dfs['age'])].groupby(pd.cut(dfs.age[~np.isnan(dfs['age'])], bins)).agg([count_nonzero])\n",
    "    "
   ]
  },
  {
   "cell_type": "markdown",
   "metadata": {},
   "source": [
    "# Anderson test for distribution "
   ]
  },
  {
   "cell_type": "code",
   "execution_count": 10,
   "metadata": {
    "collapsed": false
   },
   "outputs": [
    {
     "data": {
      "text/plain": [
       "(0.52524719226309102,\n",
       " array([ 0.519,  0.591,  0.709,  0.827,  0.984]),\n",
       " array([ 15. ,  10. ,   5. ,   2.5,   1. ]))"
      ]
     },
     "execution_count": 10,
     "metadata": {},
     "output_type": "execute_result"
    }
   ],
   "source": [
    "scipy.stats.anderson(W_age_dist['count_nonzero'], dist='norm')\n"
   ]
  },
  {
   "cell_type": "code",
   "execution_count": 9,
   "metadata": {
    "collapsed": false
   },
   "outputs": [
    {
     "data": {
      "text/plain": [
       "(0.51294415781601543,\n",
       " array([ 0.519,  0.591,  0.709,  0.827,  0.984]),\n",
       " array([ 15. ,  10. ,   5. ,   2.5,   1. ]))"
      ]
     },
     "execution_count": 9,
     "metadata": {},
     "output_type": "execute_result"
    }
   ],
   "source": [
    "scipy.stats.anderson(S_age_dist['count_nonzero'], dist='norm')"
   ]
  },
  {
   "cell_type": "markdown",
   "metadata": {},
   "source": [
    "# since the anderson value is smaller than critical value , we fail to reject the null hypothesis that the sample   is drawn from a population that follows a gausian distributio"
   ]
  },
  {
   "cell_type": "markdown",
   "metadata": {},
   "source": [
    "# Shapiro Wilk Test "
   ]
  },
  {
   "cell_type": "code",
   "execution_count": 11,
   "metadata": {
    "collapsed": false
   },
   "outputs": [
    {
     "data": {
      "text/plain": [
       "(0.8517548441886902, 0.09924410283565521)"
      ]
     },
     "execution_count": 11,
     "metadata": {},
     "output_type": "execute_result"
    }
   ],
   "source": [
    "scipy.stats.shapiro(S_age_dist['count_nonzero'])"
   ]
  },
  {
   "cell_type": "code",
   "execution_count": 12,
   "metadata": {
    "collapsed": false
   },
   "outputs": [
    {
     "data": {
      "text/plain": [
       "(0.8571709990501404, 0.11250919103622437)"
      ]
     },
     "execution_count": 12,
     "metadata": {},
     "output_type": "execute_result"
    }
   ],
   "source": [
    "scipy.stats.shapiro(W_age_dist['count_nonzero'])"
   ]
  },
  {
   "cell_type": "markdown",
   "metadata": {},
   "source": [
    "## Observation : The p Value is .09 which is greater than alpha , i.e .05 , which means that the sample from which the data is drawn is from gaussian distribution "
   ]
  },
  {
   "cell_type": "code",
   "execution_count": null,
   "metadata": {
    "collapsed": true
   },
   "outputs": [],
   "source": []
  }
 ],
 "metadata": {
  "kernelspec": {
   "display_name": "Python 2",
   "language": "python",
   "name": "python2"
  },
  "language_info": {
   "codemirror_mode": {
    "name": "ipython",
    "version": 2
   },
   "file_extension": ".py",
   "mimetype": "text/x-python",
   "name": "python",
   "nbconvert_exporter": "python",
   "pygments_lexer": "ipython2",
   "version": "2.7.10"
  }
 },
 "nbformat": 4,
 "nbformat_minor": 0
}
